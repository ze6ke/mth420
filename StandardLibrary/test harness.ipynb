{
 "cells": [
  {
   "cell_type": "code",
   "execution_count": 1,
   "id": "40eb9365-0d35-4a13-bd8b-4fc87e31f01c",
   "metadata": {
    "tags": []
   },
   "outputs": [],
   "source": [
    "%run standard_library.py"
   ]
  },
  {
   "cell_type": "code",
   "execution_count": 2,
   "id": "a85cfb9c-5a48-46d2-8855-f150677da3bd",
   "metadata": {
    "tags": []
   },
   "outputs": [
    {
     "data": {
      "text/plain": [
       "(1, 4, 2.5)"
      ]
     },
     "execution_count": 2,
     "metadata": {},
     "output_type": "execute_result"
    }
   ],
   "source": [
    "L=[1,2,3,4]\n",
    "prob1(L) #return the min, max, and mean"
   ]
  },
  {
   "cell_type": "code",
   "execution_count": 3,
   "id": "fc67585c-14d3-4b0d-90c1-37c916dcab71",
   "metadata": {
    "tags": []
   },
   "outputs": [
    {
     "name": "stdout",
     "output_type": "stream",
     "text": [
      "Integers are not mutable.\n",
      "String are not mutable.\n",
      "Lists are mutable.\n",
      "Tuples are not mutable.\n",
      "Sets are mutable.\n"
     ]
    }
   ],
   "source": [
    "prob2()"
   ]
  },
  {
   "cell_type": "code",
   "execution_count": 4,
   "id": "15187b56-b9d9-4eda-86db-2ab06f68907a",
   "metadata": {
    "tags": []
   },
   "outputs": [
    {
     "data": {
      "text/plain": [
       "5.0"
      ]
     },
     "execution_count": 4,
     "metadata": {},
     "output_type": "execute_result"
    }
   ],
   "source": [
    "hypot(3,4)"
   ]
  },
  {
   "cell_type": "code",
   "execution_count": 5,
   "id": "3f4f09f5-7563-4bf1-acb0-cc31345068f6",
   "metadata": {
    "tags": []
   },
   "outputs": [
    {
     "name": "stdout",
     "output_type": "stream",
     "text": [
      "[set(), {1}, {2}, {4}, {1, 2}, {1, 4}, {2, 4}, {1, 2, 4}]\n"
     ]
    }
   ],
   "source": [
    "L=[1,2,4]\n",
    "print(power_set(L))\n",
    "s=power_set(L)[2]"
   ]
  },
  {
   "cell_type": "code",
   "execution_count": 6,
   "id": "301b41e9-d634-434d-a5ca-3c44536701cc",
   "metadata": {
    "tags": []
   },
   "outputs": [
    {
     "data": {
      "text/plain": [
       "True"
      ]
     },
     "execution_count": 6,
     "metadata": {},
     "output_type": "execute_result"
    }
   ],
   "source": [
    "isinstance(s, set)"
   ]
  }
 ],
 "metadata": {
  "kernelspec": {
   "display_name": "Python 3 (ipykernel)",
   "language": "python",
   "name": "python3"
  },
  "language_info": {
   "codemirror_mode": {
    "name": "ipython",
    "version": 3
   },
   "file_extension": ".py",
   "mimetype": "text/x-python",
   "name": "python",
   "nbconvert_exporter": "python",
   "pygments_lexer": "ipython3",
   "version": "3.12.6"
  }
 },
 "nbformat": 4,
 "nbformat_minor": 5
}
