{
 "cells": [
  {
   "cell_type": "code",
   "execution_count": 1,
   "id": "d9be5483-4098-4ae9-bc68-14f14ef4cfae",
   "metadata": {},
   "outputs": [
    {
     "name": "stdout",
     "output_type": "stream",
     "text": [
      "Hello, world!\n"
     ]
    }
   ],
   "source": [
    "%run python_intro.py"
   ]
  },
  {
   "cell_type": "code",
   "execution_count": 5,
   "id": "a1d13dbc-bffa-4255-92ae-d9765f6df88e",
   "metadata": {
    "tags": []
   },
   "outputs": [
    {
     "name": "stdout",
     "output_type": "stream",
     "text": [
      "4.188786666666666\n"
     ]
    },
    {
     "data": {
      "text/plain": [
       "\" Return the volume of the sphere of radius 'r'.\\nUse 3.14159 for pi in your computation.\\n\""
      ]
     },
     "execution_count": 5,
     "metadata": {},
     "output_type": "execute_result"
    }
   ],
   "source": [
    "print(sphere_volume(1))\n",
    "\"\"\" Return the volume of the sphere of radius 'r'.\n",
    "Use 3.14159 for pi in your computation.\n",
    "\"\"\"\n"
   ]
  },
  {
   "cell_type": "code",
   "execution_count": 3,
   "id": "a0964fd7-2337-4cf8-99db-8c97e4895860",
   "metadata": {
    "tags": []
   },
   "outputs": [
    {
     "name": "stdout",
     "output_type": "stream",
     "text": [
      "1     2     3 4 5 "
     ]
    },
    {
     "data": {
      "text/plain": [
       "' Print the arguments separated by spaces, but print 5 spaces on either\\nside of b.\\n'"
      ]
     },
     "execution_count": 3,
     "metadata": {},
     "output_type": "execute_result"
    }
   ],
   "source": [
    "\n",
    "# Problem 3\n",
    "isolate(1,2,3,4,5)\n",
    "\"\"\" Print the arguments separated by spaces, but print 5 spaces on either\n",
    "side of b.\n",
    "\"\"\"\n",
    "\n"
   ]
  },
  {
   "cell_type": "code",
   "execution_count": 9,
   "id": "366ce7d7-40df-40a6-9d48-fee497da0e0d",
   "metadata": {
    "tags": []
   },
   "outputs": [
    {
     "name": "stdout",
     "output_type": "stream",
     "text": [
      "pyt\n",
      "ipy\n"
     ]
    },
    {
     "data": {
      "text/plain": [
       "' Return the first half of the string \\'my_string\\'. Exclude the\\nmiddle character if there are an odd number of characters.\\n\\nExamples:\\n>>> first_half(\"python\")\\n\\'pyt\\'\\n>>> first_half(\"ipython\")\\n\\'ipy\\'\\n'"
      ]
     },
     "execution_count": 9,
     "metadata": {},
     "output_type": "execute_result"
    }
   ],
   "source": [
    "# Problem 4\n",
    "print(first_half(\"python\"))\n",
    "print(first_half(\"ipython\"))\n",
    "\"\"\" Return the first half of the string 'my_string'. Exclude the\n",
    "middle character if there are an odd number of characters.\n",
    "\n",
    "Examples:\n",
    ">>> first_half(\"python\")\n",
    "'pyt'\n",
    ">>> first_half(\"ipython\")\n",
    "'ipy'\n",
    "\"\"\"\n",
    "\n",
    "\n"
   ]
  },
  {
   "cell_type": "code",
   "execution_count": 10,
   "id": "be84e2d0-7672-4ff6-baee-e2951041fc56",
   "metadata": {
    "tags": []
   },
   "outputs": [
    {
     "name": "stdout",
     "output_type": "stream",
     "text": [
      "nohtyp\n",
      "nohtypi\n"
     ]
    },
    {
     "data": {
      "text/plain": [
       "' Return the reverse of the string \\'my_string\\'.\\n\\nExamples:\\n>>> backward(\"python\")\\n\\'nohtyp\\'\\n>>> backward(\"ipython\")\\n\\'nohtypi\\'\\n'"
      ]
     },
     "execution_count": 10,
     "metadata": {},
     "output_type": "execute_result"
    }
   ],
   "source": [
    "\n",
    "print(backward(\"python\"))\n",
    "print(backward(\"ipython\"))\n",
    "\"\"\" Return the reverse of the string 'my_string'.\n",
    "\n",
    "Examples:\n",
    ">>> backward(\"python\")\n",
    "'nohtyp'\n",
    ">>> backward(\"ipython\")\n",
    "'nohtypi'\n",
    "\"\"\"\n"
   ]
  },
  {
   "cell_type": "code",
   "execution_count": 12,
   "id": "72ecae74-7009-44d0-9009-78b69cebd5fb",
   "metadata": {
    "tags": []
   },
   "outputs": [
    {
     "name": "stdout",
     "output_type": "stream",
     "text": [
      "['fox', 'hawk', 'dog', 'bearhunter']\n"
     ]
    },
    {
     "data": {
      "text/plain": [
       "' Define a list with the entries \"bear\", \"ant\", \"cat\", and \"dog\".\\nPerform the following operations on the list:\\n- Append \"eagle\".\\n- Replace the entry at index 2 with \"fox\".\\n- Remove (or pop) the entry at index 1.\\n- Sort the list in reverse alphabetical order.\\n- Replace \"eagle\" with \"hawk\".\\n- Add the string \"hunter\" to the last entry in the list.\\nReturn the resulting list.\\n\\nExamples:\\n>>> list_ops()\\n[\\'fox\\', \\'hawk\\', \\'dog\\', \\'bearhunter\\']\\n'"
      ]
     },
     "execution_count": 12,
     "metadata": {},
     "output_type": "execute_result"
    }
   ],
   "source": [
    "print(list_ops())\n",
    "\"\"\" Define a list with the entries \"bear\", \"ant\", \"cat\", and \"dog\".\n",
    "Perform the following operations on the list:\n",
    "- Append \"eagle\".\n",
    "- Replace the entry at index 2 with \"fox\".\n",
    "- Remove (or pop) the entry at index 1.\n",
    "- Sort the list in reverse alphabetical order.\n",
    "- Replace \"eagle\" with \"hawk\".\n",
    "- Add the string \"hunter\" to the last entry in the list.\n",
    "Return the resulting list.\n",
    "\n",
    "Examples:\n",
    ">>> list_ops()\n",
    "['fox', 'hawk', 'dog', 'bearhunter']\n",
    "\"\"\"\n",
    "\n"
   ]
  },
  {
   "cell_type": "code",
   "execution_count": 13,
   "id": "c01b2707-1033-49d9-8fbc-b696bd647c0b",
   "metadata": {
    "tags": []
   },
   "outputs": [
    {
     "name": "stdout",
     "output_type": "stream",
     "text": [
      "applehay\n",
      "ananabay\n"
     ]
    },
    {
     "data": {
      "text/plain": [
       "' Translate the string \\'word\\' into Pig Latin, and return the new word.\\n\\nExamples:\\n>>> pig_latin(\"apple\")\\n\\'applehay\\'\\n>>> pig_latin(\"banana\")\\n\\'ananabay\\'\\n'"
      ]
     },
     "execution_count": 13,
     "metadata": {},
     "output_type": "execute_result"
    }
   ],
   "source": [
    "# Problem 6\n",
    "print(pig_latin(\"apple\"))\n",
    "print(pig_latin(\"banana\"))\n",
    "\"\"\" Translate the string 'word' into Pig Latin, and return the new word.\n",
    "\n",
    "Examples:\n",
    ">>> pig_latin(\"apple\")\n",
    "'applehay'\n",
    ">>> pig_latin(\"banana\")\n",
    "'ananabay'\n",
    "\"\"\"\n",
    "\n"
   ]
  },
  {
   "cell_type": "code",
   "execution_count": 15,
   "id": "7ffb4b0a-1b16-4eca-939e-f78c288f5d72",
   "metadata": {
    "tags": []
   },
   "outputs": [
    {
     "name": "stdout",
     "output_type": "stream",
     "text": [
      "906609\n"
     ]
    },
    {
     "data": {
      "text/plain": [
       "' Find and retun the largest panindromic number made from the product\\nof two 3-digit numbers.\\n'"
      ]
     },
     "execution_count": 15,
     "metadata": {},
     "output_type": "execute_result"
    }
   ],
   "source": [
    "# Problem 7\n",
    "print(palindrome())\n",
    "\"\"\" Find and retun the largest panindromic number made from the product\n",
    "of two 3-digit numbers.\n",
    "\"\"\"\n",
    "\n"
   ]
  },
  {
   "cell_type": "code",
   "execution_count": 16,
   "id": "0db3bdd0-7885-4bf9-9cd3-713b8105a12f",
   "metadata": {
    "tags": []
   },
   "outputs": [
    {
     "name": "stdout",
     "output_type": "stream",
     "text": [
      "1.0\n",
      "0.5\n",
      "0.8333333333333333\n",
      "0.5833333333333333\n"
     ]
    },
    {
     "data": {
      "text/plain": [
       "' Return the partial sum of the first n terms of the alternating\\nharmonic series, which approximates ln(2).\\n'"
      ]
     },
     "execution_count": 16,
     "metadata": {},
     "output_type": "execute_result"
    }
   ],
   "source": [
    "# Problem 8\n",
    "print(alt_harmonic(1))\n",
    "print(alt_harmonic(2))\n",
    "print(alt_harmonic(3))\n",
    "print(alt_harmonic(4))\n",
    "\"\"\" Return the partial sum of the first n terms of the alternating\n",
    "harmonic series, which approximates ln(2).\n",
    "\"\"\"\n",
    "\n"
   ]
  }
 ],
 "metadata": {
  "kernelspec": {
   "display_name": "Python 3 (ipykernel)",
   "language": "python",
   "name": "python3"
  },
  "language_info": {
   "codemirror_mode": {
    "name": "ipython",
    "version": 3
   },
   "file_extension": ".py",
   "mimetype": "text/x-python",
   "name": "python",
   "nbconvert_exporter": "python",
   "pygments_lexer": "ipython3",
   "version": "3.12.6"
  }
 },
 "nbformat": 4,
 "nbformat_minor": 5
}
