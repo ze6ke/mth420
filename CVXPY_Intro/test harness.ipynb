{
 "cells": [
  {
   "cell_type": "code",
   "execution_count": 5,
   "id": "a084e3d6-2131-479c-8cad-de635e2cf4db",
   "metadata": {
    "tags": []
   },
   "outputs": [],
   "source": [
    "import cvxpy as cp\n",
    "import numpy as np"
   ]
  },
  {
   "cell_type": "code",
   "execution_count": 6,
   "id": "652531ee-7ce1-4870-b8a8-216c9ef4b8fb",
   "metadata": {
    "tags": []
   },
   "outputs": [],
   "source": [
    "#.minimize ||Ax - b||_2\n",
    "# ||x||1 = 1\n",
    "#x nonneg\n",
    "\n",
    "A = np.array([[1, 2, 1, 1], [0, 3, -2, -1]])\n",
    "b = np.array([7, 4])\n",
    "n = A.shape[1]\n",
    "C = np.ones((n))\n",
    "one = np.ones((1))\n",
    "x = cp.Variable(n, nonneg = True)\n",
    "\n",
    "\n",
    "constraints = [C @ x == one]\n",
    "objective = cp.Minimize(cp.norm(A@x - b, 2))\n"
   ]
  },
  {
   "cell_type": "code",
   "execution_count": 7,
   "id": "3e78c2b2-6edc-4346-9822-01f017c15e05",
   "metadata": {
    "tags": []
   },
   "outputs": [
    {
     "name": "stdout",
     "output_type": "stream",
     "text": [
      "5.099019511310065\n",
      "[0.00000000e+00 1.00000000e+00 7.75228583e-10 0.00000000e+00]\n"
     ]
    }
   ],
   "source": [
    "\n",
    "problem = cp.Problem(objective, constraints)\n",
    "print(problem.solve())\n",
    "print(x.value)"
   ]
  },
  {
   "cell_type": "code",
   "execution_count": 8,
   "id": "d5382718-4de4-4459-bf44-c73329787d07",
   "metadata": {
    "tags": []
   },
   "outputs": [
    {
     "name": "stdout",
     "output_type": "stream",
     "text": [
      "x [6.79484804e-11 1.18604651e+00 4.65116284e-02], min = 1.325581\n"
     ]
    }
   ],
   "source": [
    "%run cvxpy_intro.py\n",
    "print('x % s, min = %f' % prob1())"
   ]
  },
  {
   "cell_type": "code",
   "execution_count": 16,
   "id": "9be59bef",
   "metadata": {
    "tags": []
   },
   "outputs": [
    {
     "name": "stdout",
     "output_type": "stream",
     "text": [
      "[3.36498490e-08 2.57142856e+00 1.85714283e+00 1.09625290e-08]\n",
      "4.428571439751746\n"
     ]
    }
   ],
   "source": [
    "A = np.array([[1, 2, 1, 1], [0, 3, -2, -1]])\n",
    "b = np.array([7, 4])\n",
    "\n",
    "%run cvxpy_intro.py\n",
    "x, ans = l1Min(A, b)\n",
    "print(x)\n",
    "print(ans)\n",
    "#print('x = % s, min = %f' % l1Min(A, b))"
   ]
  },
  {
   "cell_type": "code",
   "execution_count": 10,
   "id": "5585700a-5a72-4782-a8f8-3df8da36e0f9",
   "metadata": {
    "tags": []
   },
   "outputs": [
    {
     "name": "stdout",
     "output_type": "stream",
     "text": [
      "x [4.99999999e+00 2.00000002e+00 7.92626725e-09 1.99999999e+00\n",
      " 4.32580641e-09 3.99999998e+00], min = 86.000000\n"
     ]
    }
   ],
   "source": [
    "%run cvxpy_intro.py\n",
    "print('x % s, min = %f' % prob3())"
   ]
  },
  {
   "cell_type": "code",
   "execution_count": 11,
   "id": "b4e67624-c2c4-4af3-8ceb-836f05005d1b",
   "metadata": {},
   "outputs": [
    {
     "name": "stdout",
     "output_type": "stream",
     "text": [
      "Polishing not needed - no active set detected at optimal point\n",
      "x [-1.50000426  1.00000284 -0.50000142], min = -2.500000\n"
     ]
    }
   ],
   "source": [
    "%run cvxpy_intro.py\n",
    "print('x % s, min = %f' % prob4())"
   ]
  },
  {
   "cell_type": "code",
   "execution_count": 44,
   "id": "2c48088e-b572-453a-8708-5cc42545349a",
   "metadata": {},
   "outputs": [
    {
     "name": "stdout",
     "output_type": "stream",
     "text": [
      "x [0.00000000e+00 1.00000000e+00 7.75228583e-10 0.00000000e+00], min = 5.099020\n"
     ]
    }
   ],
   "source": [
    "A = np.array([[1, 2, 1, 1], [0, 3, -2, -1]])\n",
    "b = np.array([7, 4])\n",
    "\n",
    "%run cvxpy_intro.py\n",
    "print('x % s, min = %f' % prob5(A, b))"
   ]
  }
 ],
 "metadata": {
  "kernelspec": {
   "display_name": "Python 3 (ipykernel)",
   "language": "python",
   "name": "python3"
  },
  "language_info": {
   "codemirror_mode": {
    "name": "ipython",
    "version": 3
   },
   "file_extension": ".py",
   "mimetype": "text/x-python",
   "name": "python",
   "nbconvert_exporter": "python",
   "pygments_lexer": "ipython3",
   "version": "3.12.6"
  }
 },
 "nbformat": 4,
 "nbformat_minor": 5
}
