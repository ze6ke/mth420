{
 "cells": [
  {
   "cell_type": "code",
   "execution_count": 1,
   "id": "8598e903-e385-4b47-8d26-a379c6b809d3",
   "metadata": {
    "tags": []
   },
   "outputs": [],
   "source": [
    "import numpy as np\n",
    "from scipy import linalg as la"
   ]
  },
  {
   "cell_type": "code",
   "execution_count": 2,
   "id": "dd8df70f-0e8e-48e8-aeff-a451e6a1b591",
   "metadata": {
    "tags": []
   },
   "outputs": [
    {
     "name": "stdout",
     "output_type": "stream",
     "text": [
      "[[0 1 0 0]\n",
      " [1 0 1 0]\n",
      " [0 1 0 1]\n",
      " [0 0 1 0]]\n"
     ]
    }
   ],
   "source": [
    "A = np.array([-1,1,2,3,4,5,6,7,8]).reshape((3,3))\n",
    "#A = 2*np.array([0,1,1,0]).reshape((2,2))\n",
    "A = np.array([0, 1, 1, 0]).reshape((2,2)) # line from a to b\n",
    "A = np.array([0, 1, 1, 1, 0, 1, 1,1, 0]).reshape((3,3)) #connected triangle\n",
    "A = np.array([0, 1, 0, 0,   1, 0, 1, 0,   0, 1, 0, 1,   0, 0, 1, 0]).reshape((4, -1))\n",
    "print(A)\n"
   ]
  },
  {
   "cell_type": "code",
   "execution_count": 3,
   "id": "f142a348-c525-4cc8-bf81-01f4894d77ae",
   "metadata": {
    "tags": []
   },
   "outputs": [
    {
     "data": {
      "text/plain": [
       "True"
      ]
     },
     "execution_count": 3,
     "metadata": {},
     "output_type": "execute_result"
    }
   ],
   "source": [
    "%run drazin.py\n",
    "A = np.array([[-1,1,2],[3,4,5],[6,7,8]])\n",
    "is_drazin(A, la.inv(A), 0)"
   ]
  },
  {
   "cell_type": "code",
   "execution_count": 4,
   "id": "044c4d8a-e71c-4125-8f64-83d84a065020",
   "metadata": {
    "tags": []
   },
   "outputs": [
    {
     "name": "stdout",
     "output_type": "stream",
     "text": [
      "[[-1.          2.         -1.        ]\n",
      " [ 2.         -6.66666667  3.66666667]\n",
      " [-1.          4.33333333 -2.33333333]]\n"
     ]
    }
   ],
   "source": [
    "%run drazin.py\n",
    "A = np.array([-1,1,2,3,4,5,6,7,8]).reshape((3,3))\n",
    "Ad = drazin_inverse(A)\n",
    "k = index(A)\n",
    "\n",
    "print(drazin_inverse(A))"
   ]
  },
  {
   "cell_type": "code",
   "execution_count": 5,
   "id": "41c07b6f-2609-4465-888f-7367492ca6e8",
   "metadata": {
    "tags": []
   },
   "outputs": [
    {
     "name": "stdout",
     "output_type": "stream",
     "text": [
      "[[0. 1. 2. 3.]\n",
      " [1. 0. 1. 2.]\n",
      " [2. 1. 0. 1.]\n",
      " [3. 2. 1. 0.]]\n"
     ]
    }
   ],
   "source": [
    "%run drazin.py\n",
    "A = np.array([0, 1, 0, 0,   1, 0, 1, 0,   0, 1, 0, 1,   0, 0, 1, 0]).reshape((4, -1))\n",
    "\n",
    "print(effective_resistance(A))"
   ]
  }
 ],
 "metadata": {
  "kernelspec": {
   "display_name": "Python 3 (ipykernel)",
   "language": "python",
   "name": "python3"
  },
  "language_info": {
   "codemirror_mode": {
    "name": "ipython",
    "version": 3
   },
   "file_extension": ".py",
   "mimetype": "text/x-python",
   "name": "python",
   "nbconvert_exporter": "python",
   "pygments_lexer": "ipython3",
   "version": "3.12.6"
  }
 },
 "nbformat": 4,
 "nbformat_minor": 5
}
